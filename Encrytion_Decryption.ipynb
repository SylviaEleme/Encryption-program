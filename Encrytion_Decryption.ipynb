{
 "cells": [
  {
   "cell_type": "code",
   "execution_count": 11,
   "id": "d536d9d8-8151-45b2-965a-52d87b1e2073",
   "metadata": {},
   "outputs": [
    {
     "name": "stdout",
     "output_type": "stream",
     "text": [
      "------- Welcome to Azubi Encrption Services -------\n",
      "\n",
      "\n",
      "    >>>> Enter 1 : To encrpyt a message\n",
      "    >>>> Enter 2 : To decrpyt a message\n",
      "    \n"
     ]
    },
    {
     "name": "stdin",
     "output_type": "stream",
     "text": [
      "Please Select An Above 0ption:  1\n",
      "\n",
      "Enter your message for encrption:  azubi\n"
     ]
    },
    {
     "name": "stdout",
     "output_type": "stream",
     "text": [
      "\n",
      "Encrypted message:  xwryf\n",
      "\n",
      "-------Thank you for using our services-------\n"
     ]
    }
   ],
   "source": [
    "# defining the alphabets to be used\n",
    "Alphabet_upper = 'ABCDEFGHIJKLMNOPQRSTUVWXYZ' \n",
    "Alphabet_lower = 'abcdefghijklmnopqrstuvwxyz'\n",
    "\n",
    "# setting the number of places to shift the aplphabets during encrption\n",
    "shift = 3\n",
    "\n",
    "# setting the parameters for encrpting messages\n",
    "def encrypt(message, shift):\n",
    "    encrypted_message = \"\" # empty string created to house encryption message when the program runs\n",
    "    for char in message:\n",
    "        if char.isupper():  # checks if the character is an uppercase letter  \n",
    "            index = Alphabet_upper.index(char) # finds the original index of the character\n",
    "            shifted_index = (index - shift) % 26 # finds the new index as the shift is applied for encryption \n",
    "            encrypted_message += Alphabet_upper[shifted_index] # returns a new value as the encryped character based on the new index \n",
    "       \n",
    "        elif char.islower():  # checks if the character is a lowercase letter \n",
    "             index = Alphabet_lower.index(char)\n",
    "             shifted_index = (index - shift) % 26\n",
    "             encrypted_message += Alphabet_lower[shifted_index] \n",
    "        else:\n",
    "            encrypted_message += char  # Keeps non-alphabetic characters unchanged\n",
    "    return encrypted_message    # returns the appropraite value after the set conditions is met to the variable encrpted_message\n",
    "\n",
    "# setting the parameters for decrpting messages\n",
    "def decrypt(encrypted_message, shift):\n",
    "    return encrypt(encrypted_message, -shift) # using the same conditions as encryption, but negating the shift to move the index in the opposite direction\n",
    "\n",
    "# setting up options for user to choose from\n",
    "def encrption_options():\n",
    "    print ('''\n",
    "    >>>> Enter 1 : To encrpyt a message\n",
    "    >>>> Enter 2 : To decrpyt a message\n",
    "    ''')\n",
    "\n",
    "\n",
    "print('------- Welcome to Azubi Encrption Services -------\\n') # Welcome message for user\n",
    "\n",
    "encrption_options()  # callout the options for user to select preference                                     \n",
    "\n",
    "user_input = int(input('Please Select An Above 0ption: '))\n",
    "\n",
    "# encrypt or decrypt user's message based on selection made\n",
    "if user_input == 1:\n",
    "    message = input(\"\\nEnter your message for encrption: \")\n",
    "    encrypted_message = encrypt(message, shift)\n",
    "    print(\"\\nEncrypted message: \", encrypted_message)\n",
    "elif user_input == 2:\n",
    "    message = input(\"\\nEnter your message for decryption: \")\n",
    "    decrypted_message = decrypt(message, shift)\n",
    "    print(\"\\nDecrypted message:\", decrypted_message)\n",
    "else:\n",
    "    print('No valid option selected')\n",
    "\n",
    "\n",
    "print('\\n-------Thank you for using our services-------')\n",
    "    \n",
    "\n",
    "    "
   ]
  },
  {
   "cell_type": "code",
   "execution_count": null,
   "id": "94e05803-fed8-4638-a404-ea52ecc83851",
   "metadata": {},
   "outputs": [],
   "source": []
  }
 ],
 "metadata": {
  "kernelspec": {
   "display_name": "Python 3 (ipykernel)",
   "language": "python",
   "name": "python3"
  },
  "language_info": {
   "codemirror_mode": {
    "name": "ipython",
    "version": 3
   },
   "file_extension": ".py",
   "mimetype": "text/x-python",
   "name": "python",
   "nbconvert_exporter": "python",
   "pygments_lexer": "ipython3",
   "version": "3.10.9"
  }
 },
 "nbformat": 4,
 "nbformat_minor": 5
}
